{
 "cells": [
  {
   "cell_type": "code",
   "execution_count": 1,
   "metadata": {},
   "outputs": [],
   "source": [
    "import os\n",
    "import json\n",
    "import shutil\n",
    "\n",
    "DATAROOT = \"/opt/ml/segmentation/input/data\"\n",
    "TRAINJSON = os.path.join(DATAROOT,\"train_all.json\")\n",
    "\n",
    "'''\n",
    "Redistribution image by train/valid/test \n",
    "\n",
    "rename img by img_id\n",
    "'''\n",
    "def _rename_images(json_dir, image_dir):\n",
    "\twith open(json_dir, \"r\", encoding=\"utf8\") as outfile:\n",
    "\t\tjson_data = json.load(outfile)\n",
    "\timage_datas = json_data[\"images\"]\n",
    "\n",
    "\tfor image_data in image_datas:\n",
    "\n",
    "\t\tshutil.copyfile(os.path.join(image_data['file_name']), os.path.join(image_dir,f\"{image_data['id']:04}.jpg\"))\n",
    "\n",
    "'''\n",
    "Wrap func\n",
    "'''\n",
    "def make(json,path):\n",
    "\timagePath = '/opt/ml/segmentation/input/mmseg/images/'+path\n",
    "\n",
    "\tos.makedirs(imagePath, exist_ok=True)\n",
    "\t_rename_images(json,imagePath)\n",
    "\n",
    "\n",
    "'''\n",
    "Main\n",
    "'''\n",
    "def __main__():\n",
    "\n",
    "\tmake(TRAINJSON, 'train_all')\n",
    "\n",
    "\n",
    "if __name__=='__main__':\n",
    "\t__main__()"
   ]
  },
  {
   "cell_type": "code",
   "execution_count": null,
   "metadata": {},
   "outputs": [],
   "source": []
  }
 ],
 "metadata": {
  "interpreter": {
   "hash": "95407de0fcae2d335cd6bbf1b28114ffcf1508cd940dc8264d7831a75c0f5bc6"
  },
  "kernelspec": {
   "display_name": "Python 3.7.11 64-bit ('mmsegmentation': conda)",
   "name": "python3"
  },
  "language_info": {
   "codemirror_mode": {
    "name": "ipython",
    "version": 3
   },
   "file_extension": ".py",
   "mimetype": "text/x-python",
   "name": "python",
   "nbconvert_exporter": "python",
   "pygments_lexer": "ipython3",
   "version": "3.7.11"
  },
  "orig_nbformat": 4
 },
 "nbformat": 4,
 "nbformat_minor": 2
}
